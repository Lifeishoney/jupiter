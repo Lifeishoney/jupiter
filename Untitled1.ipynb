{
 "cells": [
  {
   "cell_type": "code",
   "execution_count": null,
   "id": "192be911-cdfe-49ef-b4e6-1342b3dc5236",
   "metadata": {},
   "outputs": [],
   "source": []
  },
  {
   "cell_type": "code",
   "execution_count": null,
   "id": "9497905f-1cec-44b5-9826-44aacff611a1",
   "metadata": {},
   "outputs": [],
   "source": []
  },
  {
   "cell_type": "code",
   "execution_count": null,
   "id": "bae00d6f-a6e3-4ce5-8d4f-7c274905b95c",
   "metadata": {
    "editable": true,
    "slideshow": {
     "slide_type": ""
    },
    "tags": []
   },
   "outputs": [],
   "source": [
    "tyrtyrtyrtyrtyrtyrtyrty\n",
    "rty\n",
    "etyertry\n",
    "ertry\n",
    "erty\n",
    "erty\n",
    "rt\n",
    "\n",
    "tytty"
   ]
  },
  {
   "cell_type": "code",
   "execution_count": null,
   "id": "20c1ddd6-ba89-4259-ac41-143c36656a9c",
   "metadata": {},
   "outputs": [],
   "source": [
    "import cv2 "
   ]
  },
  {
   "cell_type": "code",
   "execution_count": null,
   "id": "771e9dec-d5ef-4397-9cf4-8b1704617ac9",
   "metadata": {},
   "outputs": [],
   "source": []
  },
  {
   "cell_type": "code",
   "execution_count": null,
   "id": "af31563c-5f47-4e99-93ee-ed066f7c4c26",
   "metadata": {},
   "outputs": [],
   "source": []
  }
 ],
 "metadata": {
  "kernelspec": {
   "display_name": "\"Python/Mu (mu_venv-38-20240822-111522)\"",
   "language": "python",
   "name": "mu_venv-38-20240822-111522"
  },
  "language_info": {
   "codemirror_mode": {
    "name": "ipython",
    "version": 3
   },
   "file_extension": ".py",
   "mimetype": "text/x-python",
   "name": "python",
   "nbconvert_exporter": "python",
   "pygments_lexer": "ipython3",
   "version": "3.8.12"
  }
 },
 "nbformat": 4,
 "nbformat_minor": 5
}
